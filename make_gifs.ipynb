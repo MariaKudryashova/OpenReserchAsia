{
 "cells": [
  {
   "cell_type": "code",
   "execution_count": 1,
   "id": "bc9ac40b",
   "metadata": {},
   "outputs": [],
   "source": [
    "import os\n",
    "import imageio\n",
    "from IPython.display import Image, display\n",
    "from PIL import Image\n"
   ]
  },
  {
   "cell_type": "code",
   "execution_count": 2,
   "id": "8f3321ef",
   "metadata": {},
   "outputs": [],
   "source": [
    "images_folder = 'C:/Users/Maru/spb/ReserchAsia/OpenReserchAsia/graphs/6_bigsinglestock/FUT_CT/'\n"
   ]
  },
  {
   "cell_type": "code",
   "execution_count": 3,
   "id": "1133db83",
   "metadata": {},
   "outputs": [],
   "source": [
    "png_files = [file for file in os.listdir(images_folder) if file.lower().endswith('.png')]"
   ]
  },
  {
   "cell_type": "code",
   "execution_count": 4,
   "id": "99cb1971",
   "metadata": {},
   "outputs": [
    {
     "name": "stdout",
     "output_type": "stream",
     "text": [
      "Конвертировано: bigfut_AP_CT.png -> bigfut_AP_CT.jpg\n",
      "Конвертировано: bigfut_A_CT.png -> bigfut_A_CT.jpg\n",
      "Конвертировано: bigfut_EAM_CT.png -> bigfut_EAM_CT.jpg\n"
     ]
    }
   ],
   "source": [
    "for png_file in png_files:\n",
    "        png_path = os.path.join(images_folder, png_file)\n",
    "        img = Image.open(png_path)\n",
    "\n",
    "        # Генерируем путь к выходному JPG-файлу\n",
    "        jpg_file = os.path.splitext(png_file)[0] + '.jpg'\n",
    "        jpg_path = os.path.join(images_folder, jpg_file)\n",
    "\n",
    "        # Конвертируем и сохраняем в формате JPG\n",
    "        img.convert('RGB').save(jpg_path, 'JPEG')\n",
    "\n",
    "        print(f\"Конвертировано: {png_file} -> {jpg_file}\")"
   ]
  },
  {
   "cell_type": "code",
   "execution_count": 5,
   "id": "f2b46b1d",
   "metadata": {},
   "outputs": [
    {
     "data": {
      "text/plain": [
       "['bigfut_AP_CT.jpg', 'bigfut_A_CT.jpg', 'bigfut_EAM_CT.jpg']"
      ]
     },
     "execution_count": 5,
     "metadata": {},
     "output_type": "execute_result"
    }
   ],
   "source": [
    "\n",
    "# Получение списка файлов изображений\n",
    "image_files = [file for file in os.listdir(images_folder) if file.endswith('.jpg')]\n",
    "image_files.sort()  \n",
    "image_files\n"
   ]
  },
  {
   "cell_type": "code",
   "execution_count": 6,
   "id": "43afcbdf",
   "metadata": {},
   "outputs": [
    {
     "name": "stderr",
     "output_type": "stream",
     "text": [
      "C:\\Users\\Maru\\AppData\\Local\\Temp\\ipykernel_23228\\130384002.py:5: DeprecationWarning: Starting with ImageIO v3 the behavior of this function will switch to that of iio.v3.imread. To keep the current behavior (and make this warning dissapear) use `import imageio.v2 as imageio` or call `imageio.v2.imread` directly.\n",
      "  animation_images.append(imageio.imread(image_path))\n"
     ]
    }
   ],
   "source": [
    "\n",
    "# Создание анимации (GIF)\n",
    "animation_images = []\n",
    "for image_file in image_files:\n",
    "    image_path = os.path.join(images_folder, image_file)\n",
    "    animation_images.append(imageio.imread(image_path))\n"
   ]
  },
  {
   "cell_type": "code",
   "execution_count": 7,
   "id": "6dfd39ca",
   "metadata": {},
   "outputs": [],
   "source": [
    "\n",
    "# Сохранение GIF-файла\n",
    "gif_path = os.path.join(images_folder, 'animation.gif')\n",
    "imageio.mimsave(gif_path, animation_images, duration=5)  # Длительность отображения одного кадра (в секундах)\n"
   ]
  },
  {
   "cell_type": "code",
   "execution_count": 8,
   "id": "c455e7f2",
   "metadata": {},
   "outputs": [
    {
     "ename": "TypeError",
     "evalue": "'module' object is not callable",
     "output_type": "error",
     "traceback": [
      "\u001b[1;31m---------------------------------------------------------------------------\u001b[0m",
      "\u001b[1;31mTypeError\u001b[0m                                 Traceback (most recent call last)",
      "\u001b[1;32m~\\AppData\\Local\\Temp\\ipykernel_23228\\2964440564.py\u001b[0m in \u001b[0;36m<module>\u001b[1;34m\u001b[0m\n\u001b[0;32m      1\u001b[0m \u001b[1;31m# Отображение анимации\u001b[0m\u001b[1;33m\u001b[0m\u001b[1;33m\u001b[0m\u001b[0m\n\u001b[1;32m----> 2\u001b[1;33m \u001b[0mdisplay\u001b[0m\u001b[1;33m(\u001b[0m\u001b[0mImage\u001b[0m\u001b[1;33m(\u001b[0m\u001b[0mfilename\u001b[0m\u001b[1;33m=\u001b[0m\u001b[0mgif_path\u001b[0m\u001b[1;33m)\u001b[0m\u001b[1;33m)\u001b[0m\u001b[1;33m\u001b[0m\u001b[1;33m\u001b[0m\u001b[0m\n\u001b[0m",
      "\u001b[1;31mTypeError\u001b[0m: 'module' object is not callable"
     ]
    }
   ],
   "source": [
    "\n",
    "# Отображение анимации\n",
    "display(Image(filename=gif_path))\n"
   ]
  },
  {
   "cell_type": "code",
   "execution_count": null,
   "id": "e2e629a7",
   "metadata": {},
   "outputs": [],
   "source": []
  },
  {
   "cell_type": "code",
   "execution_count": null,
   "id": "b7fcf50e",
   "metadata": {},
   "outputs": [],
   "source": []
  },
  {
   "cell_type": "code",
   "execution_count": null,
   "id": "adf3c704",
   "metadata": {},
   "outputs": [],
   "source": []
  }
 ],
 "metadata": {
  "kernelspec": {
   "display_name": "Python 3 (ipykernel)",
   "language": "python",
   "name": "python3"
  },
  "language_info": {
   "codemirror_mode": {
    "name": "ipython",
    "version": 3
   },
   "file_extension": ".py",
   "mimetype": "text/x-python",
   "name": "python",
   "nbconvert_exporter": "python",
   "pygments_lexer": "ipython3",
   "version": "3.9.13"
  }
 },
 "nbformat": 4,
 "nbformat_minor": 5
}
